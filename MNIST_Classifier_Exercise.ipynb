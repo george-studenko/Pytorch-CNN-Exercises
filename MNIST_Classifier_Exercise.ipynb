{
  "nbformat": 4,
  "nbformat_minor": 0,
  "metadata": {
    "colab": {
      "name": "MNIST Classifier Exercise.ipynb",
      "provenance": [],
      "authorship_tag": "ABX9TyPyMJdmFdE+o5/kOSLvRenz",
      "include_colab_link": true
    },
    "kernelspec": {
      "name": "python3",
      "display_name": "Python 3"
    }
  },
  "cells": [
    {
      "cell_type": "markdown",
      "metadata": {
        "id": "view-in-github",
        "colab_type": "text"
      },
      "source": [
        "<a href=\"https://colab.research.google.com/github/george-studenko/Pytorch-CNN-Exercises/blob/master/MNIST_Classifier_Exercise.ipynb\" target=\"_parent\"><img src=\"https://colab.research.google.com/assets/colab-badge.svg\" alt=\"Open In Colab\"/></a>"
      ]
    },
    {
      "cell_type": "markdown",
      "metadata": {
        "id": "4bw-aecIPRgi",
        "colab_type": "text"
      },
      "source": [
        "# MNIST Classifier Exercise\n",
        "\n",
        "#### Imports in the cell below "
      ]
    },
    {
      "cell_type": "code",
      "metadata": {
        "id": "a-UGCHUVOJYt",
        "colab_type": "code",
        "colab": {}
      },
      "source": [
        "import numpy as np\n",
        "# ..."
      ],
      "execution_count": 0,
      "outputs": []
    },
    {
      "cell_type": "markdown",
      "metadata": {
        "id": "nH-EQAsxPjMp",
        "colab_type": "text"
      },
      "source": [
        "### Load your dataset"
      ]
    },
    {
      "cell_type": "code",
      "metadata": {
        "id": "GKYS94n6Po23",
        "colab_type": "code",
        "colab": {}
      },
      "source": [
        "# Define a transforms to normalize data\n",
        "\n",
        "\n",
        "# Load the training data\n",
        "\n",
        "\n",
        "# Load the test data"
      ],
      "execution_count": 0,
      "outputs": []
    },
    {
      "cell_type": "markdown",
      "metadata": {
        "id": "P1r8p8BQQD8m",
        "colab_type": "text"
      },
      "source": [
        "### Print some samples"
      ]
    },
    {
      "cell_type": "code",
      "metadata": {
        "id": "RufZV8kBQHMC",
        "colab_type": "code",
        "colab": {}
      },
      "source": [
        "# Show the image and print its label\n",
        "def print_sample(index):\n",
        "  pass"
      ],
      "execution_count": 0,
      "outputs": []
    },
    {
      "cell_type": "markdown",
      "metadata": {
        "id": "mQGAuiexQbFL",
        "colab_type": "text"
      },
      "source": [
        "### Define your model"
      ]
    },
    {
      "cell_type": "code",
      "metadata": {
        "id": "kLMvxGhwQTaH",
        "colab_type": "code",
        "colab": {}
      },
      "source": [
        "# model = ...\n"
      ],
      "execution_count": 0,
      "outputs": []
    },
    {
      "cell_type": "markdown",
      "metadata": {
        "id": "WbribN04Qv3X",
        "colab_type": "text"
      },
      "source": [
        "### Test the model before training"
      ]
    },
    {
      "cell_type": "code",
      "metadata": {
        "id": "sUodJk4-Qy0t",
        "colab_type": "code",
        "colab": {}
      },
      "source": [
        "# get image and label\n",
        "\n",
        "# do any pre-processing if needed\n",
        "\n",
        "# feedforward and get the outout probabilities\n",
        "\n",
        "# print the probabilities\n",
        "\n",
        "# what is the label? and what is the prediction according to the current model"
      ],
      "execution_count": 0,
      "outputs": []
    },
    {
      "cell_type": "markdown",
      "metadata": {
        "id": "gErqPkyoRdFX",
        "colab_type": "text"
      },
      "source": [
        "### Define the validation function"
      ]
    },
    {
      "cell_type": "code",
      "metadata": {
        "id": "t_N1WSlHRf6A",
        "colab_type": "code",
        "colab": {}
      },
      "source": [
        "def validation(model, testloader, criterion):\n",
        "  pass\n",
        "  # calculate the current accuracy\n",
        "  # return test_loss, accuracy"
      ],
      "execution_count": 0,
      "outputs": []
    },
    {
      "cell_type": "markdown",
      "metadata": {
        "id": "UcrVtL5NR8sM",
        "colab_type": "text"
      },
      "source": [
        "### Define the Loss Function"
      ]
    },
    {
      "cell_type": "code",
      "metadata": {
        "id": "qI1YYliPRyZR",
        "colab_type": "code",
        "colab": {}
      },
      "source": [
        ""
      ],
      "execution_count": 0,
      "outputs": []
    },
    {
      "cell_type": "markdown",
      "metadata": {
        "id": "gncUo7VqSBAl",
        "colab_type": "text"
      },
      "source": [
        "### Define the optimizer"
      ]
    },
    {
      "cell_type": "code",
      "metadata": {
        "id": "K_GoOGq3SDkb",
        "colab_type": "code",
        "colab": {}
      },
      "source": [
        ""
      ],
      "execution_count": 0,
      "outputs": []
    },
    {
      "cell_type": "markdown",
      "metadata": {
        "id": "kPgwDfhoSEn5",
        "colab_type": "text"
      },
      "source": [
        "### Define the training function, feel free to add any parameters you might need to the funcion"
      ]
    },
    {
      "cell_type": "code",
      "metadata": {
        "id": "_IQyZv3ISHeO",
        "colab_type": "code",
        "colab": {}
      },
      "source": [
        "# epochs = ...\n",
        "# print_log_every = ...\n",
        "# step = ...\n",
        "def train():\n",
        "  pass"
      ],
      "execution_count": 0,
      "outputs": []
    },
    {
      "cell_type": "markdown",
      "metadata": {
        "id": "AuRd5iI0SjP6",
        "colab_type": "text"
      },
      "source": [
        "### Train your model"
      ]
    },
    {
      "cell_type": "code",
      "metadata": {
        "id": "SJx1KWYoSmmZ",
        "colab_type": "code",
        "colab": {}
      },
      "source": [
        "# train(...)"
      ],
      "execution_count": 0,
      "outputs": []
    },
    {
      "cell_type": "markdown",
      "metadata": {
        "id": "8QsiK-yZS__I",
        "colab_type": "text"
      },
      "source": [
        "### What is the accuracy of the trained model?"
      ]
    },
    {
      "cell_type": "markdown",
      "metadata": {
        "id": "smIV3_3zTEsk",
        "colab_type": "text"
      },
      "source": [
        "###### Answer here"
      ]
    },
    {
      "cell_type": "markdown",
      "metadata": {
        "id": "s5A3ebgfS2MS",
        "colab_type": "text"
      },
      "source": [
        "### Test your trained network"
      ]
    },
    {
      "cell_type": "code",
      "metadata": {
        "id": "wSZtqIbzS1aZ",
        "colab_type": "code",
        "colab": {}
      },
      "source": [
        "# Show the image, print the label and prediction for various samples"
      ],
      "execution_count": 0,
      "outputs": []
    },
    {
      "cell_type": "code",
      "metadata": {
        "id": "FuHio17KTPly",
        "colab_type": "code",
        "colab": {}
      },
      "source": [
        ""
      ],
      "execution_count": 0,
      "outputs": []
    }
  ]
}